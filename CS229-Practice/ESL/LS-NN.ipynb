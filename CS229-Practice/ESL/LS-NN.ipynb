{
 "cells": [
  {
   "cell_type": "code",
   "execution_count": 2,
   "metadata": {},
   "outputs": [
    {
     "name": "stdout",
     "output_type": "stream",
     "text": [
      "Populating the interactive namespace from numpy and matplotlib\n"
     ]
    }
   ],
   "source": [
    "%matplotlib notebook\n",
    "%matplotlib inline\n",
    "%pylab inline\n",
    "import numpy as np\n",
    "import numpy as np\n",
    "import matplotlib\n",
    "import matplotlib.animation\n",
    "import matplotlib.pyplot as plt\n",
    "from mpl_toolkits.mplot3d import Axes3D\n",
    "import pandas as pd\n",
    "import scipy.stats as sp\n"
   ]
  },
  {
   "cell_type": "markdown",
   "metadata": {},
   "source": [
    "## Data Simulation scenario I: For LS classification\n",
    "\n",
    "1. 2 classes - Blue and Orange, 100 points in each class\n",
    "2. training data in each class generated from bivariate gaussian distributions with uncorrelated components and different means\n",
    "\n",
    "$ X_{i} \\sim BVN(\\mu_{i}, \\Sigma)$,\n",
    "<br>\n",
    "$i \\in {1,2}$\n",
    "<br>\n",
    "$X_{blue} \\sim BVN(\\mu_{blue}, \\Sigma)$\n",
    "<br>\n",
    "$X_{orange} \\sim BVN(\\mu_{orange}, \\Sigma)$\n"
   ]
  },
  {
   "cell_type": "code",
   "execution_count": 8,
   "metadata": {},
   "outputs": [],
   "source": [
    "# Inputs \n",
    "mu_blue = [2.0, 3.0]\n",
    "mu_orange = [3.0, 2.0]\n",
    "sigma = np.array([[2.0, 0.0], [0.0, 2.0]])\n",
    "x_blue, y_blue = np.random.multivariate_normal(mu_blue, sigma, 100).T\n",
    "x_orange, y_orange = np.random.multivariate_normal(mu_orange, sigma, 100).T"
   ]
  },
  {
   "cell_type": "markdown",
   "metadata": {},
   "source": [
    "## Plot the generated data points"
   ]
  },
  {
   "cell_type": "code",
   "execution_count": 9,
   "metadata": {},
   "outputs": [
    {
     "data": {
      "text/plain": [
       "<matplotlib.collections.PathCollection at 0x26ad3d70358>"
      ]
     },
     "execution_count": 9,
     "metadata": {},
     "output_type": "execute_result"
    },
    {
     "data": {
      "image/png": "[encoded data removed]",
      "text/plain": [
       "<Figure size 432x288 with 1 Axes>"
      ]
     },
     "metadata": {
      "needs_background": "light"
     },
     "output_type": "display_data"
    }
   ],
   "source": [
    "ax = plt.axes()\n",
    "ax.scatter(x_blue, y_blue,  color='blue')\n",
    "ax.scatter(x_orange, y_orange, color='orange')\n"
   ]
  },
  {
   "cell_type": "markdown",
   "metadata": {},
   "source": [
    "## Plot decision boundary \n",
    "\n",
    "1. Obtain $\\hat{\\beta} = (X'X)^{-1}X'y$\n",
    "<br>\n",
    "2. Obtain $\\hat{y} = X'\\hat{\\beta}$\n",
    "<br>\n",
    "3. Plot $\\hat{y}$ versus X"
   ]
  },
  {
   "cell_type": "code",
   "execution_count": 40,
   "metadata": {},
   "outputs": [
    {
     "name": "stdout",
     "output_type": "stream",
     "text": [
      "Beta hat for the above least squares is: 0.7234194451392041\n"
     ]
    }
   ],
   "source": [
    "# training data\n",
    "X = np.concatenate((x_blue, x_orange), axis=0)\n",
    "y = np.concatenate((y_blue, y_orange), axis=0)\n",
    "\n",
    "# predict the value y_hat\n",
    "beta_hat = 1/np.dot(X, np.transpose(X))*np.dot((np.transpose(X)), y)\n",
    "print(\"Beta hat for the above least squares is:\", beta_hat)\n",
    "y_hat = X*beta_hat\n",
    "\n"
   ]
  },
  {
   "cell_type": "code",
   "execution_count": 41,
   "metadata": {},
   "outputs": [
    {
     "data": {
      "text/plain": [
       "[<matplotlib.lines.Line2D at 0x26ad6585f60>]"
      ]
     },
     "execution_count": 41,
     "metadata": {},
     "output_type": "execute_result"
    },
    {
     "data": {
      "image/png": "[encoded data removed]",
      "text/plain": [
       "<Figure size 432x288 with 1 Axes>"
      ]
     },
     "metadata": {
      "needs_background": "light"
     },
     "output_type": "display_data"
    }
   ],
   "source": [
    "ax = plt.axes()\n",
    "ax.scatter(x_blue, y_blue,  color='blue')\n",
    "ax.scatter(x_orange, y_orange, color='orange')\n",
    "ax.plot(X, y_hat)"
   ]
  },
  {
   "cell_type": "markdown",
   "metadata": {},
   "source": [
    "## Data Simulation Scenario II: For NN Classification \n",
    "<br>\n",
    "1. Choose an index i for each observation from the number of distributions \n",
    "<br>\n",
    "2. Generate an observation from the chosen density "
   ]
  },
  {
   "cell_type": "code",
   "execution_count": 77,
   "metadata": {},
   "outputs": [],
   "source": [
    "# Set-up.\n",
    "n = 100\n",
    "# numpy.random.seed(0x5eed)\n",
    "# Parameters of the mixture components\n",
    "norm_params = np.array([[5.0, 1],\n",
    "                        [1.0, 1.3],\n",
    "                        [9.0, 1.3], \n",
    "                       [3.0, 1.2],\n",
    "                       [4.0, 1.4]])\n",
    "n_components = norm_params.shape[0]\n",
    "# Weight of each component, in this case all of them are 1/3\n",
    "weights = np.ones(n_components, dtype=np.float64) / float(n_components)\n",
    "# A stream of indices from which to choose the component\n",
    "mixture_idx_blue = numpy.random.choice(n_components, size=n, replace=True, p=weights)\n",
    "mixture_idx_orange = numpy.random.choice(n_components, size=n, replace=True, p=weights)"
   ]
  },
  {
   "cell_type": "code",
   "execution_count": 79,
   "metadata": {},
   "outputs": [],
   "source": [
    "## Generate x_nn and y_nn from mixture components for blue\n",
    "x_nn_blue = []\n",
    "y_nn_blue = []\n",
    "for i in range(len(mixture_idx_blue)):\n",
    "    j = mixture_idx_blue[i]\n",
    "    x, y = np.random.normal(norm_params[j])\n",
    "    x_nn_blue.append(x)\n",
    "    y_nn_blue.append(y)\n",
    "    \n",
    "x_nn_blue = np.array(x_nn_blue)\n",
    "y_nn_blue = np.array(y_nn_blue)\n",
    "\n",
    "## Generate x_nn and y_nn from mixture components for orange\n",
    "x_nn_or = []\n",
    "y_nn_or = []\n",
    "for i in range(len(mixture_idx_orange)):\n",
    "    j = mixture_idx_orange[i]\n",
    "    x, y = np.random.normal(norm_params[j])\n",
    "    x_nn_or.append(x)\n",
    "    y_nn_or.append(y)\n",
    "    \n",
    "x_nn_or = np.array(x_nn_or)\n",
    "y_nn_or = np.array(y_nn_or)"
   ]
  },
  {
   "cell_type": "code",
   "execution_count": 80,
   "metadata": {},
   "outputs": [
    {
     "data": {
      "text/plain": [
       "<matplotlib.collections.PathCollection at 0x26ad64b3cc0>"
      ]
     },
     "execution_count": 80,
     "metadata": {},
     "output_type": "execute_result"
    },
    {
     "data": {
      "image/png": "[encoded data removed]",
      "text/plain": [
       "<Figure size 432x288 with 1 Axes>"
      ]
     },
     "metadata": {
      "needs_background": "light"
     },
     "output_type": "display_data"
    }
   ],
   "source": [
    "ax = plt.axes()\n",
    "ax.scatter(x_nn_blue, y_nn_blue,  color='blue')\n",
    "ax.scatter(x_nn_or, y_nn_or, color='orange')\n"
   ]
  },
  {
   "cell_type": "code",
   "execution_count": null,
   "metadata": {},
   "outputs": [],
   "source": []
  }
 ],
 "metadata": {
  "kernelspec": {
   "display_name": "Python 3",
   "language": "python",
   "name": "python3"
  },
  "language_info": {
   "codemirror_mode": {
    "name": "ipython",
    "version": 3
   },
   "file_extension": ".py",
   "mimetype": "text/x-python",
   "name": "python",
   "nbconvert_exporter": "python",
   "pygments_lexer": "ipython3",
   "version": "3.7.1"
  }
 },
 "nbformat": 4,
 "nbformat_minor": 2
}
